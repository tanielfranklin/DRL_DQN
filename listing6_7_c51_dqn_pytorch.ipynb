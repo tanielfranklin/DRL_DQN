{
 "cells": [
  {
   "cell_type": "markdown",
   "metadata": {},
   "source": [
    "# Deep Q-Network Variant Categorical 51-Atom DQN (C-51) implementation (PyTorch).\n",
    "\n",
    "In this notebook, we will implement C51 (Categorical DQN) variant of DQN. First part of the notebook is all about the vanilla DQN and how we train - a copy of `6_1_dqn_pytorch.ipynb`. The C51 variant is after these sections on vanilla DQN.\n",
    "\n",
    "\n",
    "### RECAP\n",
    "\n",
    "$$ \n",
    "\\DeclareMathOperator*{\\max}{max}$$\n",
    "\n",
    "Q Learning control is carried out by sampling step by step and updating Q values at each step. We use ε-greedy policy to explore and generate samples. However, the policy learnt is a deterministic greedy policy with no exploration. We can carryout updates online i.e. we take a step and use `(current state, action, reward and next_state)` tuple to update. \n",
    "\n",
    "In case of function approximation using neural network, the input to the network is the state and output is the q(s,a) for all the actions in the state `s`. It is denoted as $ \\hat{q}(s_t,a; w_{t}) $, where $w_{t}$ is the weights of the neural network which we are trying to learn as part of DQN learning. \n",
    "\n",
    "We use two networks, one target network to get the max q-value of next state denoted by $ \\max_a \\hat {q}(s_{t+1},a; w^{-}_{t}) $ and the primary network with weights $w_{t}$ which we are updated based on back propagation of the TD error through the network.\n",
    "\n",
    "The Update equation is given below. This is the online version:\n",
    "$$ w_{t+1} \\leftarrow w_t + \\alpha [ R_{t+1} + \\gamma . \\max_{a} \\hat{q}(S_{t+1},a,w^{-}_{t}) – \\hat{q}(S_t,A_t,w_t)] \\nabla \\hat{q}(S_t,A_t,w_t)$$\n",
    "\n",
    "Online update with neural network with millions of weights does not work well. Accordingly, We use experience replay (aka Replay Buffer).  We use a behavior policy to explore the environment and store the samples `(s, a, r, s', done)` in a buffer. The samples are generated using an exploratory behavior policy while we improve a deterministic target policy using q-values. \n",
    "\n",
    "Therefore, we can always use older samples from behavior policy and apply them again and again. We can keep the buffer size fixed to some pre-determined size and keep deleting the older samples as we collect new ones. This process makes learning sample efficient by reusing a sample multiple times and also removing temporal dependence of the samples we would otherwise see while following a trajectory.\n",
    "\n",
    "The update equation with batch update with minor modifications is given below. We collect samples of transitions (current state, action, reward, next state) in a buffer. Where each sample is denoted as a tuple: \n",
    "\n",
    "$$ (s_{i}, a_{i}, r_{i}, s^{'}_{i}, done_{i})$$\n",
    "\n",
    "Subscript (i) denotes ith sample. We take N samples from experience replay selecting randomly and update the weights. Subscript (t) denotes the index of weight updates. If the current state is done, as denoted by `done` flag, the target is just the reward as terminal states have zero value. The final update equation is as given below:\n",
    "\n",
    "$$w_{t+1} \\leftarrow w_t + \\alpha \\frac{1}{N} \\sum_{i=1}^{N} \\left[ r_i + \\left( (1-done_i) . \\gamma .  \\max_{a^{'}} \\hat{q}(s_{i}^{'},a^{'};w^{-}_{t}) \\right) – \\hat{q}(s_i,a_i;w_t) \\right] \\nabla \\hat{q}(s_i,a_i;w_t)$$\n"
   ]
  },
  {
   "cell_type": "code",
   "execution_count": 1,
   "metadata": {},
   "outputs": [],
   "source": [
    "import random\n",
    "import numpy as np\n",
    "import torch\n",
    "import torch.nn as nn\n",
    "import torch.nn.functional as F\n",
    "import torch.optim as optim\n",
    "\n",
    "import gym\n",
    "\n",
    "import numpy as np\n",
    "import matplotlib.pyplot as plt\n",
    "from scipy.signal import convolve, gaussian\n",
    "import math\n",
    "import os\n",
    "import io\n",
    "import base64\n",
    "import time\n",
    "from tqdm import trange\n",
    "import glob\n",
    "import random\n",
    "from collections import namedtuple\n",
    "\n",
    "from IPython.display import HTML, clear_output\n",
    "\n",
    "%matplotlib inline\n"
   ]
  },
  {
   "cell_type": "markdown",
   "metadata": {},
   "source": [
    "### Environment - CartPole \n",
    "\n",
    "We can use the setup here to run on any environment which has state as a single vector and actions are discrete. We will build it on Cart Pole and they try to run this on many other environments like Lunar Lander and others.\n"
   ]
  },
  {
   "cell_type": "code",
   "execution_count": 2,
   "metadata": {},
   "outputs": [],
   "source": [
    "def make_env(env_name, seed=None):\n",
    "    # remove time limit wrapper from environment\n",
    "    env = gym.make(env_name).unwrapped\n",
    "    if seed is not None:\n",
    "        env.seed(seed)\n",
    "    return env"
   ]
  },
  {
   "cell_type": "code",
   "execution_count": 3,
   "metadata": {},
   "outputs": [
    {
     "data": {
      "image/png": "[encoded data removed]",
      "text/plain": [
       "<Figure size 640x480 with 1 Axes>"
      ]
     },
     "metadata": {},
     "output_type": "display_data"
    }
   ],
   "source": [
    "ENV_NAME = 'CartPole-v1'\n",
    "\n",
    "env = make_env(ENV_NAME)\n",
    "env.reset()\n",
    "plt.imshow(env.render(\"rgb_array\"))\n",
    "state_shape, n_actions = env.observation_space.shape, env.action_space.n"
   ]
  },
  {
   "cell_type": "markdown",
   "metadata": {},
   "source": [
    "### Building a network using pytorch"
   ]
  },
  {
   "cell_type": "markdown",
   "metadata": {},
   "source": [
    "Let us build a DQN agent using a simple network. We now need to build a neural network that can map states/observations to state q-values. The observation space and action space is as given below for CartPole\n",
    "\n",
    "    Observation:\n",
    "        Type: Box(4)\n",
    "        Num     Observation               Min                     Max\n",
    "        0       Cart Position             -4.8                    4.8\n",
    "        1       Cart Velocity             -Inf                    Inf\n",
    "        2       Pole Angle                -0.418 rad (-24 deg)    0.418 rad (24 deg)\n",
    "        3       Pole Angular Velocity     -Inf                    Inf\n",
    "    Actions:\n",
    "        Type: Discrete(2)\n",
    "        Num   Action\n",
    "        0     Push cart to the left\n",
    "        1     Push cart to the right\n",
    "        \n",
    "\n",
    "The model will be a simple one with 2 hidden payers with Relu activation and final layer being logits with dimension equation to number of actions. "
   ]
  },
  {
   "cell_type": "code",
   "execution_count": 4,
   "metadata": {},
   "outputs": [
    {
     "data": {
      "text/plain": [
       "device(type='cuda')"
      ]
     },
     "execution_count": 4,
     "metadata": {},
     "output_type": "execute_result"
    }
   ],
   "source": [
    "device = torch.device('cuda' if torch.cuda.is_available() else 'cpu')\n",
    "device"
   ]
  },
  {
   "cell_type": "code",
   "execution_count": 5,
   "metadata": {},
   "outputs": [],
   "source": [
    "class DQNAgent(nn.Module):\n",
    "    def __init__(self, state_shape, n_actions, epsilon=0):\n",
    "\n",
    "        super().__init__()\n",
    "        self.epsilon = epsilon\n",
    "        self.n_actions = n_actions\n",
    "        self.state_shape = state_shape\n",
    "        \n",
    "        state_dim = state_shape[0]\n",
    "        # a simple NN with state_dim as input vector (inout is state s)\n",
    "        # and self.n_actions as output vector of logits of q(s, a)\n",
    "        self.fc1 = nn.Linear(state_dim, 64)\n",
    "        self.fc2 = nn.Linear(64, 128)\n",
    "        self.fc3 = nn.Linear(128, 32)\n",
    "        self.q = nn.Linear(32, n_actions)\n",
    "        \n",
    "    def forward(self, state_t):\n",
    "        # pass the state at time t through the newrok to get Q(s,a)\n",
    "        x = F.relu(self.fc1(state_t))\n",
    "        x = F.relu(self.fc2(x))\n",
    "        x = F.relu(self.fc3(x))\n",
    "        qvalues = self.q(x)\n",
    "        return qvalues\n",
    "\n",
    "    def get_qvalues(self, states):\n",
    "        # input is an array of states in numpy and outout is Qvals as numpy array\n",
    "        states = torch.tensor(states, device=device, dtype=torch.float32)\n",
    "        qvalues = self.forward(states)\n",
    "        return qvalues.data.cpu().numpy()\n",
    "\n",
    "    def sample_actions(self, qvalues):\n",
    "        # sample actions from a batch of q_values using epsilon greedy policy\n",
    "        epsilon = self.epsilon\n",
    "        batch_size, n_actions = qvalues.shape\n",
    "        random_actions = np.random.choice(n_actions, size=batch_size)\n",
    "        best_actions = qvalues.argmax(axis=-1)\n",
    "        should_explore = np.random.choice(\n",
    "            [0, 1], batch_size, p=[1-epsilon, epsilon])\n",
    "        return np.where(should_explore, random_actions, best_actions)"
   ]
  },
  {
   "cell_type": "code",
   "execution_count": 6,
   "metadata": {},
   "outputs": [],
   "source": [
    "agent = DQNAgent(state_shape, n_actions, epsilon=0.5).to(device)"
   ]
  },
  {
   "cell_type": "code",
   "execution_count": 7,
   "metadata": {},
   "outputs": [],
   "source": [
    "def evaluate(env, agent, n_games=1, greedy=False, t_max=10000):\n",
    "    rewards = []\n",
    "    for _ in range(n_games):\n",
    "        s = env.reset()\n",
    "        reward = 0\n",
    "        for _ in range(t_max):\n",
    "            qvalues = agent.get_qvalues([s])\n",
    "            action = qvalues.argmax(axis=-1)[0] if greedy else agent.sample_actions(qvalues)[0]\n",
    "            s, r, done, _ = env.step(action)\n",
    "            reward += r\n",
    "            if done:\n",
    "                break\n",
    "\n",
    "        rewards.append(reward)\n",
    "    return np.mean(rewards)"
   ]
  },
  {
   "cell_type": "code",
   "execution_count": 8,
   "metadata": {},
   "outputs": [
    {
     "name": "stderr",
     "output_type": "stream",
     "text": [
      "/tmp/ipykernel_537902/3687610728.py:27: UserWarning: Creating a tensor from a list of numpy.ndarrays is extremely slow. Please consider converting the list to a single numpy.ndarray with numpy.array() before converting to a tensor. (Triggered internally at  ../torch/csrc/utils/tensor_new.cpp:201.)\n",
      "  states = torch.tensor(states, device=device, dtype=torch.float32)\n"
     ]
    },
    {
     "name": "stdout",
     "output_type": "stream",
     "text": [
      "10.0\n"
     ]
    }
   ],
   "source": [
    "print(evaluate(env, agent, n_games=1))\n",
    "env.close()"
   ]
  },
  {
   "cell_type": "markdown",
   "metadata": {},
   "source": [
    "### Experience replay\n",
    "\n",
    "We will use the replay buffer we saw in chapter 4 listings. Replay buffer is very important in DQN to break the correlation between samples. We use a behavior policy (epsilon greedy) to sample from the environment and store the transitions (s,a,r,s',done) into a buffer. These samples are used multiple times in a learning making the process sample efficient. \n",
    "\n",
    "The interface to ReplayBuffer is:\n",
    "* `exp_replay.add(state, action, reward, next_state, done)` - saves (s,a,r,s',done) tuple into the buffer\n",
    "* `exp_replay.sample(batch_size)` - returns states, actions, rewards, next_states and done_flags for `batch_size` random samples.\n",
    "* `len(exp_replay)` - returns number of elements stored in replay buffer.\n",
    "\n",
    "We have modified the implementation a bit to make it more efficient"
   ]
  },
  {
   "cell_type": "code",
   "execution_count": 9,
   "metadata": {},
   "outputs": [],
   "source": [
    "class ReplayBuffer:\n",
    "    def __init__(self, size):\n",
    "        self.size = size #max number of items in buffer\n",
    "        self.buffer =[] #array to holde buffer\n",
    "        self.next_id = 0\n",
    "    \n",
    "    def __len__(self):\n",
    "        return len(self.buffer)\n",
    "    \n",
    "    def add(self, state, action, reward, next_state, done):\n",
    "        item = (state, action, reward, next_state, done)\n",
    "        if len(self.buffer) < self.size:\n",
    "           self.buffer.append(item)\n",
    "        else:\n",
    "            self.buffer[self.next_id] = item\n",
    "        self.next_id = (self.next_id + 1) % self.size\n",
    "        \n",
    "    def sample(self, batch_size):\n",
    "        idxs = np.random.choice(len(self.buffer), batch_size)\n",
    "        samples = [self.buffer[i] for i in idxs]\n",
    "        states, actions, rewards, next_states, done_flags = list(zip(*samples))\n",
    "        return np.array(states), np.array(actions), np.array(rewards), np.array(next_states), np.array(done_flags)"
   ]
  },
  {
   "cell_type": "code",
   "execution_count": 10,
   "metadata": {},
   "outputs": [],
   "source": [
    "def play_and_record(start_state, agent, env, exp_replay, n_steps=1):\n",
    "\n",
    "    s = start_state\n",
    "    sum_rewards = 0\n",
    "\n",
    "    # Play the game for n_steps and record transitions in buffer\n",
    "    for _ in range(n_steps):\n",
    "        qvalues = agent.get_qvalues([s])\n",
    "        a = agent.sample_actions(qvalues)[0]        \n",
    "        next_s, r, done, _ = env.step(a)\n",
    "        sum_rewards += r\n",
    "        exp_replay.add(s, a, r, next_s, done)\n",
    "        if done:\n",
    "            s = env.reset()\n",
    "        else:\n",
    "            s = next_s\n",
    "        \n",
    "    return sum_rewards, s"
   ]
  },
  {
   "cell_type": "markdown",
   "metadata": {},
   "source": [
    "### Target network\n"
   ]
  },
  {
   "cell_type": "code",
   "execution_count": 11,
   "metadata": {},
   "outputs": [
    {
     "data": {
      "text/plain": [
       "<All keys matched successfully>"
      ]
     },
     "execution_count": 11,
     "metadata": {},
     "output_type": "execute_result"
    }
   ],
   "source": [
    "target_network = DQNAgent(agent.state_shape, agent.n_actions, epsilon=0.5).to(device)\n",
    "target_network.load_state_dict(agent.state_dict())"
   ]
  },
  {
   "cell_type": "markdown",
   "metadata": {},
   "source": [
    "### Learning with... Q-learning\n",
    "Here we write a function similar to tabular q-learning. We will calculate average TD error per batch using the equation: \n",
    "\n",
    "$$ L =  \\frac{1}{N} \\sum_{i=1}^{N} \\left[ r_i + \\left( (1-done_i) . \\gamma .  \\max_{a^{'}} \\hat{q}(s_{i}^{'},a^{'};w^{-}_{t}) \\right) – \\hat{q}(s_i,a_i;w_t) \\right]^2$$\n",
    "\n",
    "\n",
    "$$ \\nabla_w L =   - \\frac{1}{N} \\sum_{i=1}^{N} \\left[ r_i + \\left( (1-done_i) . \\gamma .  \\max_{a^{'}} \\hat{q}(s_{i}^{'},a^{'};w^{-}_{t}) \\right) – \\hat{q}(s_i,a_i;w_t) \\right] \\nabla \\hat{q}(s_i,a_i;w_t)$$\n",
    "\n",
    "\n",
    "$\\hat{q}(s',A;w^{-})$ is calculated using target network whose weights are held constant and refreshed periodically from the agent learning network. \n",
    "\n",
    "Target is given by following:\n",
    "* non terminal state: $r_i +  \\gamma .  \\max_{a^{'}} \\hat{q}(s_{i}^{'},a^{'};w^{-}_{t})$\n",
    "* terminal state: $ r_i $\n",
    "\n",
    "We then carryout back propagation through the agent network to update the weights using equation below:\n",
    "\n",
    "\n",
    "$$ \n",
    "\\DeclareMathOperator*{\\max}{max} w_{t+1} \\leftarrow w_t - \\alpha \\nabla_{w}L$$"
   ]
  },
  {
   "cell_type": "code",
   "execution_count": 12,
   "metadata": {},
   "outputs": [],
   "source": [
    "def td_loss_dqn(agent, target_network, states, actions, rewards, next_states, done_flags,\n",
    "                    gamma=0.99, device=device):\n",
    "\n",
    "    # convert numpy array to torch tensors\n",
    "    states = torch.tensor(states, device=device, dtype=torch.float)\n",
    "    actions = torch.tensor(actions, device=device, dtype=torch.long)\n",
    "    rewards = torch.tensor(rewards, device=device, dtype=torch.float)\n",
    "    next_states = torch.tensor(next_states, device=device, dtype=torch.float)\n",
    "    done_flags = torch.tensor(done_flags.astype('float32'),device=device,dtype=torch.float)\n",
    "\n",
    "    # get q-values for all actions in current states\n",
    "    # use agent network\n",
    "    q_s = agent(states)\n",
    "\n",
    "    # select q-values for chosen actions\n",
    "    q_s_a = q_s[range(\n",
    "        len(actions)), actions]\n",
    "\n",
    "    with torch.no_grad():\n",
    "        # compute q-values for all actions in next states\n",
    "        # use target network\n",
    "        q_s1 = target_network(next_states)\n",
    "\n",
    "\n",
    "        # compute Qmax(next_states, actions) using predicted next q-values\n",
    "        q_s1_a1max,_ = torch.max(q_s1, dim=1)\n",
    "\n",
    "        # compute \"target q-values\" \n",
    "        target_q = rewards + gamma * q_s1_a1max * (1-done_flags)\n",
    "\n",
    "    # mean squared error loss to minimize\n",
    "    loss = torch.mean((q_s_a - target_q.detach()) ** 2)\n",
    "\n",
    "    return loss"
   ]
  },
  {
   "cell_type": "code",
   "execution_count": 13,
   "metadata": {},
   "outputs": [],
   "source": [
    "def epsilon_schedule(start_eps, end_eps, step, final_step):\n",
    "    return start_eps + (end_eps-start_eps)*min(step, final_step)/final_step\n",
    "\n",
    "def smoothen(values):\n",
    "    kernel = gaussian(100, std=100)\n",
    "    kernel = kernel / np.sum(kernel)\n",
    "    return convolve(values, kernel, 'valid')"
   ]
  },
  {
   "cell_type": "markdown",
   "metadata": {},
   "source": [
    "### Main loop\n",
    "\n",
    "We now carryout the training on DQN setup above."
   ]
  },
  {
   "cell_type": "code",
   "execution_count": 14,
   "metadata": {},
   "outputs": [],
   "source": [
    "def train_agent(env, agent, target_network, optimizer, td_loss_fn):\n",
    "    \n",
    "    state = env.reset()\n",
    "    # let us fill experience replay with some samples using full random policy\n",
    "    exp_replay = ReplayBuffer(10**4)\n",
    "    for i in range(100):\n",
    "        play_and_record(state, agent, env, exp_replay, n_steps=10**2)\n",
    "        if len(exp_replay) == 10**4:\n",
    "            break\n",
    "    print('Finished filling buffer with: {} samples'.format(len(exp_replay)))\n",
    "\n",
    "    mean_rw_history = []\n",
    "    td_loss_history = []\n",
    "    state = env.reset()\n",
    "    for step in trange(total_steps + 1):\n",
    "\n",
    "        # reduce exploration as we progress\n",
    "        agent.epsilon = epsilon_schedule(start_epsilon, end_epsilon, step, eps_decay_final_step)\n",
    "\n",
    "        # take timesteps_per_epoch and update experience replay buffer\n",
    "        _, state = play_and_record(state, agent, env, exp_replay, timesteps_per_epoch)\n",
    "\n",
    "        # train by sampling batch_size of data from experience replay\n",
    "        states, actions, rewards, next_states, done_flags = exp_replay.sample(batch_size)\n",
    "\n",
    "\n",
    "        # loss = <compute TD loss>\n",
    "        optimizer.zero_grad()\n",
    "        loss = td_loss_fn(agent, target_network, \n",
    "                          states, actions, rewards, next_states, done_flags,                  \n",
    "                          gamma=0.99,\n",
    "                          device=device)\n",
    "\n",
    "        loss.backward()\n",
    "        grad_norm = nn.utils.clip_grad_norm_(agent.parameters(), max_grad_norm)\n",
    "        optimizer.step()\n",
    "\n",
    "        if step % loss_freq == 0:\n",
    "            td_loss_history.append(loss.data.cpu().item())\n",
    "\n",
    "        if step % refresh_target_network_freq == 0:\n",
    "            # Load agent weights into target_network\n",
    "            target_network.load_state_dict(agent.state_dict())\n",
    "\n",
    "        if step % eval_freq == 0:\n",
    "            # eval the agent\n",
    "            mean_rw_history.append(evaluate(\n",
    "                make_env(ENV_NAME, seed=step), agent, n_games=3, greedy=True, t_max=1000)\n",
    "            )\n",
    "\n",
    "            clear_output(True)\n",
    "            print(\"buffer size = %i, epsilon = %.5f\" %\n",
    "                  (len(exp_replay), agent.epsilon))\n",
    "\n",
    "            plt.figure(figsize=[16, 5])\n",
    "            plt.subplot(1, 2, 1)\n",
    "            plt.title(\"Mean reward per episode\")\n",
    "            plt.plot(mean_rw_history)\n",
    "            plt.grid()\n",
    "\n",
    "            assert not np.isnan(td_loss_history[-1])\n",
    "            plt.subplot(1, 2, 2)\n",
    "            plt.title(\"TD loss history (smoothened)\")\n",
    "            plt.plot(smoothen(td_loss_history))\n",
    "            plt.grid()\n",
    "\n",
    "            plt.show()\n",
    "    "
   ]
  },
  {
   "cell_type": "code",
   "execution_count": 15,
   "metadata": {},
   "outputs": [],
   "source": [
    "#setup some parameters for training\n",
    "timesteps_per_epoch = 1\n",
    "batch_size = 32\n",
    "total_steps = 3 * 10**4\n",
    "\n",
    "# set exploration epsilon \n",
    "start_epsilon = 1\n",
    "end_epsilon = 0.05\n",
    "eps_decay_final_step = 2 * 10**4\n",
    "\n",
    "# setup spme frequency for loggind and updating target network\n",
    "loss_freq = 50\n",
    "refresh_target_network_freq = 100\n",
    "eval_freq = 1000\n",
    "\n",
    "# to clip the gradients\n",
    "max_grad_norm = 5000\n",
    "\n",
    "#set up random numbers\n",
    "seed=0\n",
    "random.seed(seed)\n",
    "np.random.seed(seed)\n",
    "torch.manual_seed(seed) \n",
    "\n",
    "#init environment\n",
    "ENV_NAME = 'CartPole-v1'\n",
    "env = make_env(ENV_NAME, seed)\n",
    "state_dim = env.observation_space.shape\n",
    "n_actions = env.action_space.n\n",
    "\n",
    "#init agent, target network and Optimizer\n",
    "agent = DQNAgent(state_dim, n_actions, epsilon=1).to(device)\n",
    "target_network = DQNAgent(state_dim, n_actions, epsilon=1).to(device)\n",
    "target_network.load_state_dict(agent.state_dict())\n",
    "optimizer = torch.optim.Adam(agent.parameters(), lr=1e-4)"
   ]
  },
  {
   "cell_type": "code",
   "execution_count": 16,
   "metadata": {},
   "outputs": [],
   "source": [
    "#train_agent(env, agent, target_network, optimizer, td_loss_fn=td_loss_dqn)"
   ]
  },
  {
   "cell_type": "code",
   "execution_count": 17,
   "metadata": {},
   "outputs": [
    {
     "name": "stdout",
     "output_type": "stream",
     "text": [
      "final score: 9.266666666666667\n"
     ]
    }
   ],
   "source": [
    "final_score = evaluate(\n",
    "  make_env(ENV_NAME),\n",
    "  agent, n_games=30, greedy=True, t_max=1000\n",
    ")\n",
    "print('final score:', final_score)\n"
   ]
  },
  {
   "cell_type": "markdown",
   "metadata": {},
   "source": [
    "**Let us record a video of trained agent**"
   ]
  },
  {
   "cell_type": "code",
   "execution_count": 18,
   "metadata": {},
   "outputs": [],
   "source": [
    "def generate_animation(env, agent, save_dir):\n",
    "    \n",
    "    try:\n",
    "        env = gym.wrappers.Monitor(\n",
    "            env, save_dir, video_callable=lambda id: True, force=True, mode='evaluation')\n",
    "    except gym.error.Error as e:\n",
    "        print(e)\n",
    "\n",
    "    if not os.path.exists(save_dir):\n",
    "        os.makedirs(save_dir)\n",
    "        \n",
    "    state = env.reset()\n",
    "    reward = 0\n",
    "    while True:\n",
    "        qvalues = agent.get_qvalues([state])\n",
    "        action = qvalues.argmax(axis=-1)[0]\n",
    "        state, r, done, _ = env.step(action)\n",
    "        reward += r\n",
    "        if done:\n",
    "            print('Got reward: {}'.format(reward))\n",
    "            break\n",
    "            \n",
    "def display_animation(filepath):\n",
    "    video = io.open(filepath, 'r+b').read()\n",
    "    encoded = base64.b64encode(video)\n",
    "    return HTML(data='''<video alt=\"test\" controls>\n",
    "                <source src=\"data:video/mp4;base64,{0}\" type=\"video/mp4\" />\n",
    "                 </video>'''.format(encoded.decode('ascii')))"
   ]
  },
  {
   "cell_type": "code",
   "execution_count": 19,
   "metadata": {},
   "outputs": [
    {
     "name": "stdout",
     "output_type": "stream",
     "text": [
      "Got reward: 11.0\n"
     ]
    },
    {
     "data": {
      "text/html": [
       "<video alt=\"test\" controls>\n",
       "                <source src=\"data:video/mp4;base64,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\" type=\"video/mp4\" />\n",
       "                 </video>"
      ],
      "text/plain": [
       "<IPython.core.display.HTML object>"
      ]
     },
     "execution_count": 19,
     "metadata": {},
     "output_type": "execute_result"
    }
   ],
   "source": [
    "# Animate learned policy\n",
    "save_dir='./videos/pytorch/6_7/'\n",
    "env = make_env(ENV_NAME)\n",
    "generate_animation(env, agent, save_dir=save_dir)\n",
    "[filepath] = glob.glob(os.path.join(save_dir, '*.mp4'))\n",
    "display_animation(filepath)\n"
   ]
  },
  {
   "cell_type": "markdown",
   "metadata": {},
   "source": [
    "### Categorical 51-Atom DQN (C-51)\n",
    "\n",
    "In the paper, https://arxiv.org/pdf/1707.06887.pdf , authors of the paper use a different route of distributional RL. Till now we have been outputting Q(s,a) values for an input state `s`. The number of units in output were of size `n_action`. In a way the output values were expected Q(s,a) using monte-carlo technique of averaging over a number of samples to form an estimate $\\hat Q(s,a)$ of the actual expected value $E[Q(s,a)]$. \n",
    "\n",
    "In Categorical 51-Atom DQN, for each Q(s,a) (`n_action` of them), we now produce an estimate of the distribution of Q(s,a) values - `n_atom` values for each q(s,a). We are now trying to predict the entire distribution modeled as a categorical probability distribution instead of just estimating the mean value of Q(s,a). \n",
    "\n",
    "$$ Q(s,a) = \\sum_i z_i p_i(s,a)$$ \n",
    "\n",
    "$p_i(s,a)$ is the probability that action-value at (s,a) will be $z_i$. \n",
    "\n",
    "We now have `n_action * n_atom` outputs, i.e. `n_atom` outputs for each value of `n_action`. Further these outputs are probabilities. For one action, we have `n_atom` probabilities and these are the probability of Q_value being in `-n_atom` discrete values in the range `V_min` to `V_max`. You can refer to the text or the linked paper above for more details. \n",
    "\n",
    "In C51 version of **distributional RL**, the authors took $i$ to be 51 atoms (support points) over the values -10 to 10. We will use the same setup in code below. As these values are parameterized in the code, you are welcomed to change these and explore the impact.\n",
    "\n",
    "After bellman updates are applied, the values shift and there is a step of **projection** to bring back the probability distribution of Q(s,a) to the support points of **atoms**. \n",
    "\n",
    "The loss is also replaced from mean squared error to cross-entropy error. The agent is trained using a epsilon-greedy policy, similar to DQN. "
   ]
  },
  {
   "cell_type": "code",
   "execution_count": 20,
   "metadata": {},
   "outputs": [],
   "source": [
    "class CategoricalDQN(nn.Module):\n",
    "    def __init__(self, state_shape, n_actions, n_atoms=51, Vmin=-10, Vmax=10, epsilon=0):\n",
    "        \n",
    "        super(CategoricalDQN, self).__init__()\n",
    "        self.epsilon = epsilon\n",
    "        self.n_actions = n_actions\n",
    "        self.state_shape = state_shape        \n",
    "        state_dim = state_shape[0]\n",
    "        self.n_atoms = n_atoms\n",
    "        self.Vmin = Vmin\n",
    "        self.Vmax = Vmax\n",
    "        # a simple NN with state_dim as input vector (inout is state s)\n",
    "        # and self.n_actions as output vector of logits of q(s, a)\n",
    "        self.fc1 = nn.Linear(state_dim, 64)\n",
    "        self.fc2 = nn.Linear(64, 128)\n",
    "        self.fc3 = nn.Linear(128, 32)\n",
    "        self.probs = nn.Linear(32, n_actions * n_atoms)\n",
    "        \n",
    "    def forward(self, state_t):\n",
    "        # pass the state at time t through the newrok to get Q(s,a)\n",
    "        x = F.relu(self.fc1(state_t))\n",
    "        x = F.relu(self.fc2(x))\n",
    "        x = F.relu(self.fc3(x))\n",
    "        probs = F.softmax(self.probs(x).view(-1, self.n_actions, self.n_atoms), dim=-1)\n",
    "        return probs\n",
    "\n",
    "    def get_probs(self, states):\n",
    "        # input is an array of states in numpy and outout is Qvals as numpy array\n",
    "        states = torch.tensor(states, device=device, dtype=torch.float32)\n",
    "        probs = self.forward(states)\n",
    "        return probs.data.cpu().numpy()\n",
    "\n",
    "    def get_qvalues(self, states):\n",
    "        # input is an array of states in numpy and outout is Qvals as numpy array\n",
    "        states = torch.tensor(states, device=device, dtype=torch.float32)\n",
    "        probs = self.forward(states)\n",
    "        support = torch.linspace(self.Vmin, self.Vmax, self.n_atoms,device=device)\n",
    "        qvals = support * probs\n",
    "        qvals = qvals.sum(-1)\n",
    "        return qvals.data.cpu().numpy()\n",
    "\n",
    "    def sample_actions(self, qvalues):\n",
    "        # sample actions from a batch of q_values using epsilon greedy policy\n",
    "        epsilon = self.epsilon\n",
    "        batch_size, n_actions = qvalues.shape\n",
    "        random_actions = np.random.choice(n_actions, size=batch_size)\n",
    "        best_actions = qvalues.argmax(axis=-1)\n",
    "        should_explore = np.random.choice(\n",
    "            [0, 1], batch_size, p=[1-epsilon, epsilon])\n",
    "        return np.where(should_explore, random_actions, best_actions)"
   ]
  },
  {
   "cell_type": "code",
   "execution_count": 21,
   "metadata": {},
   "outputs": [],
   "source": [
    "def compute_projection(model, next_states, rewards, done_flags, gamma=0.99, n_atoms=51, Vmin=-10, Vmax=10):\n",
    "    batch_size = next_states.size()[0]\n",
    "\n",
    "    d_z = (Vmax - Vmin) / (n_atoms-1)\n",
    "    support = torch.linspace(Vmin, Vmax, n_atoms, device=device)\n",
    "    probs = model(next_states)\n",
    "    qvals = support * probs\n",
    "    best_actions = qvals.sum(-1).argmax(-1)\n",
    "    best_actions = best_actions.unsqueeze(1).unsqueeze(1).expand(probs.size(0), 1, probs.size(2))\n",
    "    best_qvals = qvals.gather(1,best_actions).squeeze(1)\n",
    "    \n",
    "    rewards = rewards.unsqueeze(1).expand_as(best_qvals)\n",
    "    done_flags   = done_flags.unsqueeze(1).expand_as(best_qvals)\n",
    "    support = support.unsqueeze(0).expand_as(best_qvals)\n",
    "    \n",
    "    Tz = rewards + (1-done_flags) * gamma * support\n",
    "    Tz = Tz.clamp(Vmin, Vmax)\n",
    "    b = (Tz - Vmin) / (d_z)\n",
    "    l = b.floor().long()\n",
    "    u = b.ceil().long()\n",
    "    \n",
    "    projected_dist = torch.zeros(best_qvals.size(),device=device)\n",
    "    \n",
    "    offset = torch.linspace(0, (batch_size - 1) * n_atoms, batch_size,device=device).long()\\\n",
    "                    .unsqueeze(1).expand(batch_size, n_atoms)\n",
    "\n",
    "    proj_dist = torch.zeros(best_qvals.size(),device=device)    \n",
    "    proj_dist.view(-1).index_add_(0, (l + offset).view(-1), (best_qvals * (u.float() - b)).view(-1))\n",
    "    proj_dist.view(-1).index_add_(0, (u + offset).view(-1), (best_qvals * (b - l.float())).view(-1))\n",
    "    \n",
    "    return proj_dist    \n",
    "    \n",
    "    "
   ]
  },
  {
   "cell_type": "code",
   "execution_count": 22,
   "metadata": {},
   "outputs": [],
   "source": [
    "def td_loss_categorical_dqn(agent, target_network, states, actions, rewards, next_states, done_flags,\n",
    "                    gamma=0.99, device=device):\n",
    "\n",
    "    # convert numpy array to torch tensors\n",
    "    states = torch.tensor(states, device=device, dtype=torch.float)\n",
    "    actions = torch.tensor(actions, device=device, dtype=torch.long)\n",
    "    rewards = torch.tensor(rewards, device=device, dtype=torch.float)\n",
    "    next_states = torch.tensor(next_states, device=device, dtype=torch.float)\n",
    "    done_flags = torch.tensor(done_flags.astype('float32'),device=device, dtype=torch.float)\n",
    "\n",
    "\n",
    "    dist = agent(states)\n",
    "    batch_size, n_actions, n_atoms = dist.size()\n",
    "    actions = actions.unsqueeze(1).unsqueeze(1).expand(batch_size, 1, n_atoms)\n",
    "    dist = dist.gather(1, actions).squeeze(1)\n",
    "    dist.clamp(0.01, 0.99)\n",
    "    \n",
    "    \n",
    "    with torch.no_grad():\n",
    "        proj_dist = compute_projection(target_network, next_states, rewards, done_flags, gamma)\n",
    "    \n",
    "    loss = - (proj_dist * dist.log()).sum(1).mean()\n",
    "        \n",
    "    return loss\n",
    "    "
   ]
  },
  {
   "cell_type": "code",
   "execution_count": 27,
   "metadata": {},
   "outputs": [
    {
     "data": {
      "text/plain": [
       "device(type='cuda')"
      ]
     },
     "execution_count": 27,
     "metadata": {},
     "output_type": "execute_result"
    }
   ],
   "source": [
    "device"
   ]
  },
  {
   "cell_type": "code",
   "execution_count": 23,
   "metadata": {},
   "outputs": [],
   "source": [
    "#setup some parameters for training\n",
    "timesteps_per_epoch = 1\n",
    "batch_size = 32\n",
    "total_steps = 3 * 10**4\n",
    "\n",
    "# set exploration epsilon \n",
    "start_epsilon = 1\n",
    "end_epsilon = 0.05\n",
    "eps_decay_final_step = 2 * 10**4\n",
    "\n",
    "# setup spme frequency for loggind and updating target network\n",
    "loss_freq = 50\n",
    "refresh_target_network_freq = 100\n",
    "eval_freq = 1000\n",
    "\n",
    "# to clip the gradients\n",
    "max_grad_norm = 5000\n",
    "\n",
    "#set up random numbers\n",
    "seed=0\n",
    "random.seed(seed)\n",
    "np.random.seed(seed)\n",
    "torch.manual_seed(seed) \n",
    "\n",
    "#init environment\n",
    "ENV_NAME = 'CartPole-v1'\n",
    "env = make_env(ENV_NAME, seed)\n",
    "state_dim = env.observation_space.shape\n",
    "n_actions = env.action_space.n\n",
    "\n",
    "#init agent, target network and Optimizer\n",
    "agent = CategoricalDQN(state_dim, n_actions, epsilon=1).to(device)\n",
    "target_network = CategoricalDQN(state_dim, n_actions, epsilon=1).to(device)\n",
    "target_network.load_state_dict(agent.state_dict())\n",
    "optimizer = torch.optim.Adam(agent.parameters(), lr=1e-4)"
   ]
  },
  {
   "cell_type": "code",
   "execution_count": 24,
   "metadata": {
    "scrolled": false
   },
   "outputs": [
    {
     "name": "stdout",
     "output_type": "stream",
     "text": [
      "buffer size = 10000, epsilon = 0.05000\n"
     ]
    },
    {
     "data": {
      "image/png": "[encoded data removed]",
      "text/plain": [
       "<Figure size 1600x500 with 2 Axes>"
      ]
     },
     "metadata": {},
     "output_type": "display_data"
    },
    {
     "name": "stderr",
     "output_type": "stream",
     "text": [
      "100%|██████████| 30001/30001 [01:07<00:00, 445.21it/s]\n"
     ]
    }
   ],
   "source": [
    "train_agent(env, agent, target_network, optimizer, td_loss_fn=td_loss_categorical_dqn)"
   ]
  },
  {
   "cell_type": "code",
   "execution_count": 30,
   "metadata": {},
   "outputs": [
    {
     "name": "stdout",
     "output_type": "stream",
     "text": [
      "final score(C51 DQN): 210\n"
     ]
    }
   ],
   "source": [
    "final_score = evaluate(\n",
    "  make_env(ENV_NAME),\n",
    "  agent, n_games=30, greedy=True, t_max=1000\n",
    ")\n",
    "print('final score(C51 DQN): {:.0f}'.format(final_score))"
   ]
  },
  {
   "cell_type": "code",
   "execution_count": 31,
   "metadata": {},
   "outputs": [
    {
     "name": "stdout",
     "output_type": "stream",
     "text": [
      "Got reward: 199.0\n"
     ]
    },
    {
     "data": {
      "text/html": [
       "<video alt=\"test\" controls>\n",
       "                <source src=\"data:video/mp4;base64,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\" type=\"video/mp4\" />\n",
       "                 </video>"
      ],
      "text/plain": [
       "<IPython.core.display.HTML object>"
      ]
     },
     "execution_count": 31,
     "metadata": {},
     "output_type": "execute_result"
    }
   ],
   "source": [
    "# Animate learned policy\n",
    "save_dir='./videos/pytorch/6_7/'\n",
    "env = make_env(ENV_NAME)\n",
    "generate_animation(env, agent, save_dir=save_dir)\n",
    "[filepath] = glob.glob(os.path.join(save_dir, '*.mp4'))\n",
    "display_animation(filepath)"
   ]
  },
  {
   "cell_type": "markdown",
   "metadata": {},
   "source": [
    "### Summary\n",
    "\n",
    "In this notebook we saw how to train a DQN agent with experience replay and target networks. We also saw first variant under distributional RL i.e. **Distributional RL - Categorical DQN specifically 51-Atom (C51)**\n"
   ]
  }
 ],
 "metadata": {
  "kernelspec": {
   "display_name": "Python 3.10.6 64-bit ('RTB')",
   "language": "python",
   "name": "python3"
  },
  "language_info": {
   "codemirror_mode": {
    "name": "ipython",
    "version": 3
   },
   "file_extension": ".py",
   "mimetype": "text/x-python",
   "name": "python",
   "nbconvert_exporter": "python",
   "pygments_lexer": "ipython3",
   "version": "3.10.6"
  },
  "vscode": {
   "interpreter": {
    "hash": "ea6380b41b4f676216da14f805c910367033db88baf08f4a008feb7da3e0a6b9"
   }
  }
 },
 "nbformat": 4,
 "nbformat_minor": 1
}
